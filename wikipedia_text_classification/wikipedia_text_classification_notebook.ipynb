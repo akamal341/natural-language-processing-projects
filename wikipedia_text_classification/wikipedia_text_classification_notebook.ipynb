{
 "cells": [
  {
   "cell_type": "markdown",
   "id": "d97a64c6",
   "metadata": {},
   "source": [
    "# Text Classification Project: Predicting Nationality from Wikipedia Biographies\n",
    "\n",
    "## Project Overview:\n",
    "\n",
    "This project aims to develop a text classification model that can accurately predict a person's nationality based on their Wikipedia biography. By leveraging natural language processing techniques, we'll extract meaningful features from the text data and train a machine learning model to classify individuals into their respective nationalities."
   ]
  },
  {
   "cell_type": "markdown",
   "id": "3736d44e",
   "metadata": {},
   "source": [
    "### Imports and setup"
   ]
  },
  {
   "cell_type": "code",
   "execution_count": 3,
   "id": "9ac76a92",
   "metadata": {},
   "outputs": [],
   "source": [
    "import matplotlib.pyplot as plt\n",
    "%matplotlib inline\n",
    "import numpy as np\n",
    "import re\n",
    "import pandas as pd\n",
    "import seaborn as sns\n",
    "from collections import Counter\n",
    "from sklearn.dummy import DummyClassifier\n",
    "from sklearn.feature_extraction.text import TfidfVectorizer\n",
    "from sklearn.linear_model import LogisticRegression\n",
    "from sklearn.metrics import f1_score, confusion_matrix\n",
    "from sklearn.model_selection import train_test_split\n",
    "from tqdm import tqdm\n",
    "from nltk.tokenize import word_tokenize\n",
    "from IPython.display import display\n",
    "\n",
    "# Set random seed for reproducibility\n",
    "RANDOM_SEED = 655"
   ]
  },
  {
   "cell_type": "markdown",
   "id": "9660de6a",
   "metadata": {},
   "source": [
    "### Part 1: Data Processing\n",
    "\n",
    "We'll start by loading and preprocessing the data. It's essential to clean the data for further analysis."
   ]
  },
  {
   "cell_type": "markdown",
   "id": "6af8b4d3",
   "metadata": {},
   "source": [
    "#### Loading the data"
   ]
  },
  {
   "cell_type": "code",
   "execution_count": 7,
   "id": "b7a5a03c",
   "metadata": {},
   "outputs": [
    {
     "data": {
      "text/html": [
       "<div>\n",
       "<style scoped>\n",
       "    .dataframe tbody tr th:only-of-type {\n",
       "        vertical-align: middle;\n",
       "    }\n",
       "\n",
       "    .dataframe tbody tr th {\n",
       "        vertical-align: top;\n",
       "    }\n",
       "\n",
       "    .dataframe thead th {\n",
       "        text-align: right;\n",
       "    }\n",
       "</style>\n",
       "<table border=\"1\" class=\"dataframe\">\n",
       "  <thead>\n",
       "    <tr style=\"text-align: right;\">\n",
       "      <th></th>\n",
       "      <th>bio</th>\n",
       "      <th>nationality</th>\n",
       "    </tr>\n",
       "  </thead>\n",
       "  <tbody>\n",
       "    <tr>\n",
       "      <th>46957</th>\n",
       "      <td>Early life and education\\nDiskin was born in G...</td>\n",
       "      <td>israelis, israeli</td>\n",
       "    </tr>\n",
       "    <tr>\n",
       "      <th>39447</th>\n",
       "      <td>Biography\\nMarjanović was born into a large wo...</td>\n",
       "      <td>serbian</td>\n",
       "    </tr>\n",
       "    <tr>\n",
       "      <th>57804</th>\n",
       "      <td>Michel Demaret (18 January 1940 - 9 November 2...</td>\n",
       "      <td>belgium</td>\n",
       "    </tr>\n",
       "    <tr>\n",
       "      <th>72739</th>\n",
       "      <td>Life\\n'Profile Head with Cap', woodcut on pape...</td>\n",
       "      <td>american</td>\n",
       "    </tr>\n",
       "    <tr>\n",
       "      <th>23793</th>\n",
       "      <td>Life\\nBeddoes was born in Shifnal on 13 April ...</td>\n",
       "      <td>british</td>\n",
       "    </tr>\n",
       "  </tbody>\n",
       "</table>\n",
       "</div>"
      ],
      "text/plain": [
       "                                                     bio        nationality\n",
       "46957  Early life and education\\nDiskin was born in G...  israelis, israeli\n",
       "39447  Biography\\nMarjanović was born into a large wo...            serbian\n",
       "57804  Michel Demaret (18 January 1940 - 9 November 2...            belgium\n",
       "72739  Life\\n'Profile Head with Cap', woodcut on pape...           american\n",
       "23793  Life\\nBeddoes was born in Shifnal on 13 April ...            british"
      ]
     },
     "metadata": {},
     "output_type": "display_data"
    }
   ],
   "source": [
    "nationality_df = pd.read_csv(r'C:/users/akama/downloads/wikipedia_text_classification/bio_nationality.tsv.gz', \n",
    "                             sep='\\t', compression='gzip', index_col=0)\n",
    "\n",
    "# Skip empty entries\n",
    "nationality_df = nationality_df.dropna()\n",
    "\n",
    "# Use a subset of the data to save on runtime and memory\n",
    "nationality_df = nationality_df[:75000]\n",
    "\n",
    "# Displaying a sample of data\n",
    "display(nationality_df.sample(5, random_state=RANDOM_SEED))"
   ]
  },
  {
   "cell_type": "markdown",
   "id": "39c19c3a",
   "metadata": {},
   "source": [
    "#### Inspecting Labels"
   ]
  },
  {
   "cell_type": "code",
   "execution_count": 9,
   "id": "067a3d13",
   "metadata": {},
   "outputs": [
    {
     "name": "stdout",
     "output_type": "stream",
     "text": [
      "5374\n"
     ]
    }
   ],
   "source": [
    "print(nationality_df.nationality.nunique())\n",
    "assert len(set(nationality_df.nationality)) == 5374"
   ]
  },
  {
   "cell_type": "markdown",
   "id": "f9063561",
   "metadata": {},
   "source": [
    "We'll print out the most common labels to notice any issues:"
   ]
  },
  {
   "cell_type": "code",
   "execution_count": 10,
   "id": "f4abd66e",
   "metadata": {},
   "outputs": [
    {
     "data": {
      "text/plain": [
       "american                   14273\n",
       "british                     5522\n",
       "united states, american     2968\n",
       "australian                  2247\n",
       "united states               1729\n",
       "indian                      1524\n",
       "english                     1435\n",
       "americans, american         1339\n",
       "canadians, canadian         1298\n",
       "french                      1289\n",
       "canadian                    1284\n",
       "united kingdom, british     1184\n",
       "german                      1104\n",
       "japanese                    1038\n",
       "usa                          996\n",
       "italian                      927\n",
       "british people, british      846\n",
       "polish                       705\n",
       "irish people, irish          630\n",
       "irish                        561\n",
       "Name: nationality, dtype: int64"
      ]
     },
     "metadata": {},
     "output_type": "display_data"
    }
   ],
   "source": [
    "display(nationality_df.nationality.value_counts().head(20))"
   ]
  },
  {
   "cell_type": "markdown",
   "id": "0e22d9ed",
   "metadata": {},
   "source": [
    "#### Task 1.1: Identify Redundant Labels\n",
    "\n",
    "Set `redundant_entries` to be a list containing labels that are redundant."
   ]
  },
  {
   "cell_type": "code",
   "execution_count": 11,
   "id": "bbc3f634",
   "metadata": {},
   "outputs": [],
   "source": [
    "redundant_entries = [\n",
    "    'united states, american', 'united states', 'americans, american', \n",
    "    'canadians, canadian', 'united kingdom, british'\n",
    "]"
   ]
  },
  {
   "cell_type": "markdown",
   "id": "156dbb9f",
   "metadata": {},
   "source": [
    "#### Task 1.2: Standardize the Nationality Labels\n",
    "\n",
    "We'll implement the following standardization:"
   ]
  },
  {
   "cell_type": "code",
   "execution_count": 12,
   "id": "e5fc9dab",
   "metadata": {},
   "outputs": [],
   "source": [
    "def standardize_nationality(nationality):\n",
    "    parts = nationality.split(',')\n",
    "    standardized_label = parts[-1].strip()\n",
    "    return standardized_label\n",
    "\n",
    "nationality_df['nationality'] = nationality_df['nationality'].apply(standardize_nationality)"
   ]
  },
  {
   "cell_type": "code",
   "execution_count": 13,
   "id": "3f04154a",
   "metadata": {},
   "outputs": [
    {
     "name": "stdout",
     "output_type": "stream",
     "text": [
      "3197\n"
     ]
    }
   ],
   "source": [
    "# Verify the number of standardized labels\n",
    "\n",
    "print(len(set(nationality_df.nationality)))"
   ]
  },
  {
   "cell_type": "markdown",
   "id": "5e893776",
   "metadata": {},
   "source": [
    "#### Task 1.3: Inspect Standardized Labels\n",
    "\n",
    "Set `redundant_standardized_labels` to identify redundant labels in standardized data:"
   ]
  },
  {
   "cell_type": "code",
   "execution_count": 14,
   "id": "dfeede69",
   "metadata": {},
   "outputs": [],
   "source": [
    "redundant_standardized_labels = ['united states', 'usa']"
   ]
  },
  {
   "cell_type": "markdown",
   "id": "413c4af2",
   "metadata": {},
   "source": [
    "#### Task 1.4: Filter Out Infrequent Labels\n",
    "\n",
    "Create a cleaned dataset by filtering rows with labels occurring at least 500 times:"
   ]
  },
  {
   "cell_type": "code",
   "execution_count": 15,
   "id": "6eef8b7c",
   "metadata": {},
   "outputs": [
    {
     "name": "stdout",
     "output_type": "stream",
     "text": [
      "51931 19\n"
     ]
    }
   ],
   "source": [
    "MIN_NATIONALITY_COUNT = 500\n",
    "\n",
    "cleaned_nationality_df = nationality_df[nationality_df.groupby('nationality')['nationality'].\n",
    "                                        transform('count') >= MIN_NATIONALITY_COUNT]\n",
    "\n",
    "print(len(cleaned_nationality_df), cleaned_nationality_df.nationality.nunique())"
   ]
  },
  {
   "cell_type": "markdown",
   "id": "b8447ac4",
   "metadata": {},
   "source": [
    "#### Task 1.5: Create Train/Dev/Test Data Splits\n",
    "\n",
    "Now we'll split our data into train, development, and test sets:"
   ]
  },
  {
   "cell_type": "code",
   "execution_count": 16,
   "id": "dcfb07ff",
   "metadata": {},
   "outputs": [
    {
     "name": "stdout",
     "output_type": "stream",
     "text": [
      "41544 5193 5194\n"
     ]
    }
   ],
   "source": [
    "TRAIN_SIZE = .8\n",
    "DEV_SIZE = .1\n",
    "TEST_SIZE = .1\n",
    "\n",
    "train_dev_df, test_df = train_test_split(\n",
    "    cleaned_nationality_df, test_size=TEST_SIZE, random_state=RANDOM_SEED, shuffle=True\n",
    ")\n",
    "\n",
    "train_proportion_in_train_dev = TRAIN_SIZE / (TRAIN_SIZE + DEV_SIZE)\n",
    "\n",
    "train_df, dev_df = train_test_split(\n",
    "    train_dev_df, test_size=(1 - train_proportion_in_train_dev), random_state=RANDOM_SEED, shuffle=True\n",
    ")\n",
    "\n",
    "print(len(train_df), len(dev_df), len(test_df))"
   ]
  },
  {
   "cell_type": "markdown",
   "id": "198912db",
   "metadata": {},
   "source": [
    "### Part 2: Tokenizing the Data\n",
    "\n",
    "To use a text classifier, we need to convert text into features. We start by tokenizing it — i.e., splitting the text into words."
   ]
  },
  {
   "cell_type": "markdown",
   "id": "64b88e0f",
   "metadata": {},
   "source": [
    "#### Task 2.1: Implement Various Tokenizers\n",
    "\n",
    "We'll compare three tokenization methods:"
   ]
  },
  {
   "cell_type": "code",
   "execution_count": 17,
   "id": "e4582aff",
   "metadata": {},
   "outputs": [],
   "source": [
    "def simple_split(text):\n",
    "    return text.split()\n",
    "\n",
    "def sklearn_split(text):\n",
    "    token_pattern = re.compile(r'(?u)\\b\\w\\w+\\b')\n",
    "    return token_pattern.findall(text)\n",
    "\n",
    "def nltk_split(text):\n",
    "    return word_tokenize(text)"
   ]
  },
  {
   "cell_type": "code",
   "execution_count": 20,
   "id": "093bf295",
   "metadata": {},
   "outputs": [
    {
     "name": "stderr",
     "output_type": "stream",
     "text": [
      "100%|█████████████████████████████████████████████████████████████████████████████| 1000/1000 [00:02<00:00, 443.85it/s]"
     ]
    },
    {
     "name": "stdout",
     "output_type": "stream",
     "text": [
      "simple split: 61341\n",
      "sklearn: 33501\n",
      "nltk: 39102\n"
     ]
    },
    {
     "name": "stderr",
     "output_type": "stream",
     "text": [
      "\n"
     ]
    }
   ],
   "source": [
    "# Process a subset of the data with each tokenizer\n",
    "\n",
    "split_tokens = Counter()\n",
    "sklearn_regex_tokens = Counter()\n",
    "nltk_tokens = Counter()\n",
    "\n",
    "wordcount_subset = train_df.head(1000)\n",
    "\n",
    "for bio in tqdm(wordcount_subset.bio):\n",
    "    bio = bio.lower()\n",
    "    split_tokens.update(simple_split(bio))\n",
    "    sklearn_regex_tokens.update(sklearn_split(bio))\n",
    "    nltk_tokens.update(nltk_split(bio))\n",
    "\n",
    "print('simple split:', len(split_tokens))\n",
    "print('sklearn:', len(sklearn_regex_tokens))\n",
    "print('nltk:', len(nltk_tokens))"
   ]
  },
  {
   "cell_type": "code",
   "execution_count": 22,
   "id": "bcde6028",
   "metadata": {},
   "outputs": [
    {
     "name": "stdout",
     "output_type": "stream",
     "text": [
      "35573 tokens from split that sklearn does not output. most frequent:\n",
      "[('a', 9979), (\"''the\", 664), ('i', 417), ('–', 333), ('0', 228), ('*', 204), ('\"the', 188), ('however,', 186), ('(born', 174), ('===', 171), ('1', 170), ('year,', 154), ('school,', 151), ('4', 148), ('college,', 147), ('u.s.', 144), ('3', 138), ('2', 134), ('st.', 131), ('university,', 123)]\n",
      "\n",
      "7733 tokens from sklearn that split does not output. most frequent:\n",
      "[('000', 242), ('anti', 80), ('sts', 58), ('jr', 50), ('hara', 44), ('com', 41), ('didn', 33), ('pre', 31), ('sr', 22), ('wasn', 21), ('fg', 21), ('08', 20), ('05', 19), ('09', 19), ('ll', 17), ('multi', 17), ('gaudens', 16), ('07', 16), ('couldn', 15), ('667', 14)]\n",
      "\n",
      "\n",
      "6834 tokens from nltk that sklearn does not output. most frequent:\n",
      "[(',', 28697), ('.', 18655), ('a', 10164), (\"''\", 7698), ('``', 6789), (\"'s\", 3525), ('(', 3248), (')', 3246), (\"'\", 1436), (':', 879), (';', 686), ('i', 627), ('*', 440), ('–', 333), ('1', 270), ('===', 245), ('2', 235), ('0', 231), ('4', 204), ('3', 203)]\n",
      "\n",
      "1233 tokens from sklearn that nltk does not output. most frequent:\n",
      "[('000', 242), ('anti', 80), ('sts', 58), ('hara', 44), ('com', 41), ('pre', 31), ('sr', 22), ('wasn', 21), ('cannot', 19), ('09', 19), ('multi', 17), ('07', 16), ('667', 14), ('00', 12), ('neill', 12), ('429', 12), ('miou', 12), ('731', 11), ('aquisto', 11), ('connell', 10)]\n"
     ]
    }
   ],
   "source": [
    "# Compare token differences\n",
    "\n",
    "split_sklearn_diff = Counter({w: c for w,c in split_tokens.items() if w not in sklearn_regex_tokens})\n",
    "sklearn_split_diff = Counter({w: c for w,c in sklearn_regex_tokens.items() if w not in split_tokens})\n",
    "\n",
    "nltk_sklearn_diff = Counter({w: c for w,c in nltk_tokens.items() if w not in sklearn_regex_tokens})\n",
    "sklearn_nltk_diff = Counter({w: c for w,c in sklearn_regex_tokens.items() if w not in nltk_tokens})\n",
    "\n",
    "print('%d tokens from split that sklearn does not output. most frequent:' % len(split_sklearn_diff))\n",
    "print(split_sklearn_diff.most_common(20))\n",
    "print()\n",
    "print('%d tokens from sklearn that split does not output. most frequent:' % len(sklearn_split_diff))\n",
    "print(sklearn_split_diff.most_common(20))\n",
    "print('\\n')\n",
    "print('%d tokens from nltk that sklearn does not output. most frequent:'% len(nltk_sklearn_diff))\n",
    "print(nltk_sklearn_diff.most_common(20))\n",
    "print()\n",
    "print('%d tokens from sklearn that nltk does not output. most frequent:' % len(sklearn_nltk_diff))\n",
    "print(sklearn_nltk_diff.most_common(20))"
   ]
  },
  {
   "cell_type": "markdown",
   "id": "a4100096",
   "metadata": {},
   "source": [
    "#### Task 2.1.1: Compare the Tokenizers\n",
    "\n",
    "Identify an input string that results in different numbers of tokens for each method:"
   ]
  },
  {
   "cell_type": "code",
   "execution_count": 23,
   "id": "f7eb56a2",
   "metadata": {},
   "outputs": [
    {
     "name": "stdout",
     "output_type": "stream",
     "text": [
      "split output:  ['To', 'test', 'your', 'understanding,', 'come', 'up', 'with', 'an', 'input', 'string', 'input_str', 'that', 'results', 'in', 'a', 'tokenized', 'output', 'with', 'a', 'different', 'number', 'of', 'tokens', 'for', 'each', 'method.']\n",
      "sklearn output:  ['To', 'test', 'your', 'understanding', 'come', 'up', 'with', 'an', 'input', 'string', 'input_str', 'that', 'results', 'in', 'tokenized', 'output', 'with', 'different', 'number', 'of', 'tokens', 'for', 'each', 'method']\n",
      "nltk output:  ['To', 'test', 'your', 'understanding', ',', 'come', 'up', 'with', 'an', 'input', 'string', 'input_str', 'that', 'results', 'in', 'a', 'tokenized', 'output', 'with', 'a', 'different', 'number', 'of', 'tokens', 'for', 'each', 'method', '.']\n",
      "number of tokens output: \n",
      "26 24 28\n"
     ]
    }
   ],
   "source": [
    "input_str = \"To test your understanding, come up with an input string input_str that results in a tokenized output with a different number of tokens for each method.\"\n",
    "\n",
    "simple_output = simple_split(input_str)\n",
    "sklearn_output = sklearn_split(input_str)\n",
    "nltk_output = nltk_split(input_str)\n",
    "\n",
    "print('split output: ', simple_output)\n",
    "print('sklearn output: ', sklearn_output)\n",
    "print('nltk output: ', nltk_output)\n",
    "print('number of tokens output: ') \n",
    "print(len(simple_output), len(sklearn_output), len(nltk_output))"
   ]
  },
  {
   "cell_type": "markdown",
   "id": "16bb8244",
   "metadata": {},
   "source": [
    "#### Task 2.2: Examine Token Frequencies\n",
    "\n",
    "How often does each word occur in the data sample? Compute and plot frequencies:"
   ]
  },
  {
   "cell_type": "code",
   "execution_count": 25,
   "id": "4f23a5be",
   "metadata": {},
   "outputs": [
    {
     "data": {
      "image/png": "[encoded data removed]",
      "text/plain": [
       "<Figure size 640x480 with 1 Axes>"
      ]
     },
     "metadata": {},
     "output_type": "display_data"
    }
   ],
   "source": [
    "token_counts = sklearn_regex_tokens\n",
    "total_tokens = sum(token_counts.values())\n",
    "freqs = [count / total_tokens for count in token_counts.values()]\n",
    "freqs.sort(reverse=True)\n",
    "\n",
    "plt.plot(freqs, '.')\n",
    "plt.yscale('log')\n",
    "plt.xscale('log')"
   ]
  },
  {
   "cell_type": "markdown",
   "id": "3576b69a",
   "metadata": {},
   "source": [
    "### Part 3: Train and Evaluate Classifiers\n",
    "\n",
    "Now let's build our nationality classifier.\n",
    "\n",
    "For later use, we'll store the train/dev/test labels:"
   ]
  },
  {
   "cell_type": "code",
   "execution_count": 26,
   "id": "eb493685",
   "metadata": {},
   "outputs": [],
   "source": [
    "y_train = list(train_df.nationality)\n",
    "y_dev = list(dev_df.nationality)\n",
    "y_test = list(test_df.nationality)"
   ]
  },
  {
   "cell_type": "markdown",
   "id": "5b93dccb",
   "metadata": {},
   "source": [
    "#### Task 3.1: Generate tf-idf Reweighted Bag-of-Words Features\n",
    "\n",
    "We will use `TfidfVectorizer` to convert each biography into features:"
   ]
  },
  {
   "cell_type": "code",
   "execution_count": 27,
   "id": "fedc032c",
   "metadata": {},
   "outputs": [
    {
     "name": "stdout",
     "output_type": "stream",
     "text": [
      "size: (41544, 2760)\n",
      "vocab: ['000' '08' '10' ... 'younger' 'youngest' 'youth']\n"
     ]
    }
   ],
   "source": [
    "from sklearn.feature_extraction.text import TfidfVectorizer\n",
    "\n",
    "MIN_DF = 500\n",
    "vectorizer = TfidfVectorizer(min_df=MIN_DF, stop_words='english')\n",
    "X_train = vectorizer.fit_transform(train_df.bio)\n",
    "\n",
    "print('size:', X_train.shape)\n",
    "print('vocab:', vectorizer.get_feature_names_out())"
   ]
  },
  {
   "cell_type": "code",
   "execution_count": 28,
   "id": "6da7dbd7",
   "metadata": {},
   "outputs": [
    {
     "name": "stdout",
     "output_type": "stream",
     "text": [
      "here's how many values we'd need to store if we represented X_train as a regular matrix\n",
      "114661440\n",
      "\n",
      "here's how many values we'd need to store if we represented X_train as a sparse matrix\n",
      "4446231\n",
      "(with a bit of overhead for the sparse matrix data structure...don't worry about that though)\n",
      "note this number is much smaller\n"
     ]
    }
   ],
   "source": [
    "# Technical note on the efficiency of sparse matrices\n",
    "\n",
    "print(\"here's how many values we'd need to store if we represented X_train as a regular matrix\")\n",
    "print(X_train.shape[0] * X_train.shape[1])\n",
    "print()\n",
    "print(\"here's how many values we'd need to store if we represented X_train as a sparse matrix\")\n",
    "print(len(X_train.nonzero()[0]))\n",
    "print(\"(with a bit of overhead for the sparse matrix data structure...don't worry about that though)\")\n",
    "print(\"note this number is much smaller\")"
   ]
  },
  {
   "cell_type": "markdown",
   "id": "d1fe06ad",
   "metadata": {},
   "source": [
    "#### Task 3.2: Featurize Dev Data\n",
    "\n",
    "Generate the feature representations for the dev data:"
   ]
  },
  {
   "cell_type": "code",
   "execution_count": 29,
   "id": "3c5c5022",
   "metadata": {},
   "outputs": [
    {
     "name": "stdout",
     "output_type": "stream",
     "text": [
      "(5193, 2760)\n"
     ]
    }
   ],
   "source": [
    "X_dev = vectorizer.transform(dev_df.bio)\n",
    "print(X_dev.shape)"
   ]
  },
  {
   "cell_type": "markdown",
   "id": "d0d2cac7",
   "metadata": {},
   "source": [
    "#### Task 3.3: Train Classifier\n",
    "\n",
    "We'll train a logistic regression classifier:"
   ]
  },
  {
   "cell_type": "code",
   "execution_count": 30,
   "id": "5b9520a6",
   "metadata": {},
   "outputs": [
    {
     "name": "stdout",
     "output_type": "stream",
     "text": [
      "labels: ['american' 'australian' 'british' 'canadian' 'dutch' 'english' 'french'\n",
      " 'german' 'indian' 'irish' 'italian' 'japanese' 'polish' 'russian'\n",
      " 'scottish' 'spanish' 'swedish' 'united states' 'usa']\n",
      "[ 2.22073050e+00  5.15944030e-03  1.19515537e+00  3.92135258e-01\n",
      " -6.07323098e-01  1.37914851e-01  2.50274182e-01  4.13356521e-01\n",
      "  3.28027870e-03 -6.73019251e-01  1.70035109e-01  2.55696964e-01\n",
      " -6.42371791e-01 -6.37337599e-01 -9.24116959e-01 -7.38201579e-01\n",
      " -1.01579603e+00  1.95242003e-01 -8.14172270e-04]\n",
      "[[ 0.51831624  0.48983971  0.01763015 ... -1.08613593  0.86943763\n",
      "  -0.95471664]\n",
      " [-0.49198796  0.14285793  0.0119578  ...  0.37033106  0.42430046\n",
      "  -0.29727666]\n",
      " [-0.29855997 -0.29331996 -0.43682531 ...  0.64282674 -0.3862552\n",
      "  -0.33945403]\n",
      " ...\n",
      " [ 0.08597679 -0.06127994 -0.54019456 ...  0.18363478  0.18868065\n",
      "   0.07423576]\n",
      " [-0.88162002 -0.13396451 -0.76672667 ... -0.32053637 -0.04802813\n",
      "   0.07207946]\n",
      " [-0.35402691  0.08291797 -0.14750084 ...  0.18996126 -0.38702549\n",
      "   0.17016774]]\n"
     ]
    },
    {
     "name": "stderr",
     "output_type": "stream",
     "text": [
      "C:\\Python\\Python_39\\lib\\site-packages\\sklearn\\linear_model\\_logistic.py:469: ConvergenceWarning: lbfgs failed to converge (status=1):\n",
      "STOP: TOTAL NO. of ITERATIONS REACHED LIMIT.\n",
      "\n",
      "Increase the number of iterations (max_iter) or scale the data as shown in:\n",
      "    https://scikit-learn.org/stable/modules/preprocessing.html\n",
      "Please also refer to the documentation for alternative solver options:\n",
      "    https://scikit-learn.org/stable/modules/linear_model.html#logistic-regression\n",
      "  n_iter_i = _check_optimize_result(\n"
     ]
    }
   ],
   "source": [
    "clf = LogisticRegression(random_state=RANDOM_SEED).fit(X_train, y_train)\n",
    "\n",
    "print('labels:', clf.classes_)\n",
    "print(clf.intercept_)\n",
    "print(clf.coef_)"
   ]
  },
  {
   "cell_type": "markdown",
   "id": "0fe9755a",
   "metadata": {},
   "source": [
    "#### Task 3.4: Train Baseline Classifiers\n",
    "\n",
    "Implement two baseline classifiers using `DummyClassifier`:"
   ]
  },
  {
   "cell_type": "code",
   "execution_count": 31,
   "id": "6eb92c79",
   "metadata": {},
   "outputs": [
    {
     "name": "stdout",
     "output_type": "stream",
     "text": [
      "['german' 'united states' 'irish' 'russian' 'irish' 'french' 'russian'\n",
      " 'japanese' 'canadian' 'american' 'japanese' 'indian' 'indian' 'russian'\n",
      " 'usa' 'irish' 'french' 'russian' 'united states' 'swedish' 'english'\n",
      " 'usa' 'japanese' 'indian' 'italian']\n",
      "['british' 'british' 'american' 'american' 'dutch' 'german' 'british'\n",
      " 'american' 'italian' 'indian' 'american' 'german' 'american' 'american'\n",
      " 'american' 'american' 'italian' 'american' 'british' 'usa' 'american'\n",
      " 'american' 'american' 'united states' 'american']\n"
     ]
    }
   ],
   "source": [
    "from sklearn.dummy import DummyClassifier\n",
    "\n",
    "uniform_clf = DummyClassifier(strategy='uniform', random_state=RANDOM_SEED).fit(X_train, y_train)\n",
    "stratified_clf = DummyClassifier(strategy='stratified', random_state=RANDOM_SEED).fit(X_train, y_train)\n",
    "\n",
    "print(uniform_clf.predict(X_dev[:25]))\n",
    "print(stratified_clf.predict(X_dev[:25]))"
   ]
  },
  {
   "cell_type": "markdown",
   "id": "30f2b5a9",
   "metadata": {},
   "source": [
    "#### Task 3.4.1: Interpret Baseline Classifiers\n",
    "\n",
    "Set `most_freq_guess` and `most_freq_pr`:"
   ]
  },
  {
   "cell_type": "code",
   "execution_count": 32,
   "id": "659b65c2",
   "metadata": {},
   "outputs": [
    {
     "name": "stdout",
     "output_type": "stream",
     "text": [
      "american 0.37750336992104755\n"
     ]
    }
   ],
   "source": [
    "most_freq_guess = 'american'\n",
    "most_freq_pr = 0.37750336992104755\n",
    "print(most_freq_guess, most_freq_pr)"
   ]
  },
  {
   "cell_type": "markdown",
   "id": "e5926bae",
   "metadata": {},
   "source": [
    "#### Task 3.5: Generate Model Predictions\n",
    "\n",
    "Generate predictions for the dev data:"
   ]
  },
  {
   "cell_type": "code",
   "execution_count": 33,
   "id": "f95146d7",
   "metadata": {},
   "outputs": [
    {
     "name": "stdout",
     "output_type": "stream",
     "text": [
      "['british' 'british' 'indian' 'american' 'spanish' 'american' 'russian'\n",
      " 'american' 'irish' 'indian' 'american' 'american' 'american' 'american'\n",
      " 'american' 'italian' 'american' 'american' 'british' 'american'\n",
      " 'american' 'american' 'american' 'american' 'american']\n"
     ]
    }
   ],
   "source": [
    "lr_dev_preds = clf.predict(X_dev)\n",
    "uniform_dev_preds = uniform_clf.predict(X_dev)\n",
    "stratified_dev_preds = stratified_clf.predict(X_dev)\n",
    "\n",
    "print(lr_dev_preds[:25])"
   ]
  },
  {
   "cell_type": "markdown",
   "id": "d2c555f5",
   "metadata": {},
   "source": [
    "#### Task 3.6: Evaluate Model Predictions\n",
    "\n",
    "Compute macro-averaged F1 scores:"
   ]
  },
  {
   "cell_type": "code",
   "execution_count": 34,
   "id": "5be6c446",
   "metadata": {},
   "outputs": [
    {
     "name": "stdout",
     "output_type": "stream",
     "text": [
      "logistic regression f1: 0.7617058014979912\n",
      "uniform random guessing f1: 0.04107889723595883\n",
      "stratified random guessing f1: 0.0516538950424169\n"
     ]
    }
   ],
   "source": [
    "lr_f1 = f1_score(y_true=y_dev, y_pred=lr_dev_preds, average='macro')\n",
    "uniform_f1 = f1_score(y_true=y_dev, y_pred=uniform_dev_preds, average='macro')\n",
    "stratified_f1 = f1_score(y_true=y_dev, y_pred=stratified_dev_preds, average='macro')\n",
    "\n",
    "print('logistic regression f1:', lr_f1)\n",
    "print('uniform random guessing f1:', uniform_f1)\n",
    "print('stratified random guessing f1:', stratified_f1)"
   ]
  },
  {
   "cell_type": "markdown",
   "id": "f1cafc45",
   "metadata": {},
   "source": [
    "#### Task 3.6.1: Compare Macro- with Micro-Averaging\n",
    "\n",
    "Compute micro-averaged F1 scores:"
   ]
  },
  {
   "cell_type": "code",
   "execution_count": 35,
   "id": "995f2444",
   "metadata": {},
   "outputs": [
    {
     "name": "stdout",
     "output_type": "stream",
     "text": [
      "microaveraged logistic regression f1: 0.8178316965145388\n",
      "microaveraged uniform random guessing f1: 0.052378201424995184\n",
      "microaveraged stratified random guessing f1: 0.18024263431542462\n"
     ]
    }
   ],
   "source": [
    "lr_f1_micro = f1_score(y_true=y_dev, y_pred=lr_dev_preds, average='micro')\n",
    "uniform_f1_micro = f1_score(y_true=y_dev, y_pred=uniform_dev_preds, average='micro')\n",
    "stratified_f1_micro = f1_score(y_true=y_dev, y_pred=stratified_dev_preds, average='micro')\n",
    "\n",
    "print('microaveraged logistic regression f1:', lr_f1_micro)\n",
    "print('microaveraged uniform random guessing f1:', uniform_f1_micro)\n",
    "print('microaveraged stratified random guessing f1:', stratified_f1_micro)"
   ]
  },
  {
   "cell_type": "markdown",
   "id": "aecf02e5",
   "metadata": {},
   "source": [
    "### Part 4: Examine Classifier Performance\n",
    "\n",
    "Let's examine how the model uses the input features to come up with output labels and dig deeper into its performance."
   ]
  },
  {
   "cell_type": "markdown",
   "id": "2b9d8a85",
   "metadata": {},
   "source": [
    "#### Task 4.1: Examine Model Weights for Each Feature\n",
    "\n",
    "The feature weights learned by our logistic regression model roughly correspond to how informative each feature (i.e., word) is of each class (i.e., nationality label)."
   ]
  },
  {
   "cell_type": "code",
   "execution_count": 36,
   "id": "43c75fda",
   "metadata": {},
   "outputs": [
    {
     "data": {
      "text/html": [
       "<div>\n",
       "<style scoped>\n",
       "    .dataframe tbody tr th:only-of-type {\n",
       "        vertical-align: middle;\n",
       "    }\n",
       "\n",
       "    .dataframe tbody tr th {\n",
       "        vertical-align: top;\n",
       "    }\n",
       "\n",
       "    .dataframe thead th {\n",
       "        text-align: right;\n",
       "    }\n",
       "</style>\n",
       "<table border=\"1\" class=\"dataframe\">\n",
       "  <thead>\n",
       "    <tr style=\"text-align: right;\">\n",
       "      <th></th>\n",
       "      <th>american</th>\n",
       "      <th>australian</th>\n",
       "      <th>british</th>\n",
       "      <th>canadian</th>\n",
       "      <th>dutch</th>\n",
       "      <th>english</th>\n",
       "      <th>french</th>\n",
       "      <th>german</th>\n",
       "      <th>indian</th>\n",
       "      <th>irish</th>\n",
       "      <th>italian</th>\n",
       "      <th>japanese</th>\n",
       "      <th>polish</th>\n",
       "      <th>russian</th>\n",
       "      <th>scottish</th>\n",
       "      <th>spanish</th>\n",
       "      <th>swedish</th>\n",
       "      <th>united states</th>\n",
       "      <th>usa</th>\n",
       "    </tr>\n",
       "  </thead>\n",
       "  <tbody>\n",
       "    <tr>\n",
       "      <th>000</th>\n",
       "      <td>0.518316</td>\n",
       "      <td>-0.491988</td>\n",
       "      <td>-0.298560</td>\n",
       "      <td>0.508228</td>\n",
       "      <td>0.830816</td>\n",
       "      <td>0.484419</td>\n",
       "      <td>-0.123375</td>\n",
       "      <td>0.024988</td>\n",
       "      <td>-0.488016</td>\n",
       "      <td>-0.294453</td>\n",
       "      <td>-0.058393</td>\n",
       "      <td>0.428148</td>\n",
       "      <td>-0.034471</td>\n",
       "      <td>0.028962</td>\n",
       "      <td>0.428171</td>\n",
       "      <td>-0.313123</td>\n",
       "      <td>0.085977</td>\n",
       "      <td>-0.881620</td>\n",
       "      <td>-0.354027</td>\n",
       "    </tr>\n",
       "    <tr>\n",
       "      <th>08</th>\n",
       "      <td>0.489840</td>\n",
       "      <td>0.142858</td>\n",
       "      <td>-0.293320</td>\n",
       "      <td>-0.020717</td>\n",
       "      <td>0.072313</td>\n",
       "      <td>0.080704</td>\n",
       "      <td>0.013213</td>\n",
       "      <td>-0.152922</td>\n",
       "      <td>-0.128716</td>\n",
       "      <td>-0.102208</td>\n",
       "      <td>0.334436</td>\n",
       "      <td>-0.137518</td>\n",
       "      <td>0.258943</td>\n",
       "      <td>-0.082907</td>\n",
       "      <td>-0.119552</td>\n",
       "      <td>-0.242121</td>\n",
       "      <td>-0.061280</td>\n",
       "      <td>-0.133965</td>\n",
       "      <td>0.082918</td>\n",
       "    </tr>\n",
       "    <tr>\n",
       "      <th>10</th>\n",
       "      <td>0.017630</td>\n",
       "      <td>0.011958</td>\n",
       "      <td>-0.436825</td>\n",
       "      <td>0.571092</td>\n",
       "      <td>-0.292843</td>\n",
       "      <td>0.165266</td>\n",
       "      <td>0.367483</td>\n",
       "      <td>0.386878</td>\n",
       "      <td>0.220128</td>\n",
       "      <td>0.450942</td>\n",
       "      <td>0.093750</td>\n",
       "      <td>0.056323</td>\n",
       "      <td>-0.219796</td>\n",
       "      <td>0.016525</td>\n",
       "      <td>-0.300938</td>\n",
       "      <td>0.346850</td>\n",
       "      <td>-0.540195</td>\n",
       "      <td>-0.766727</td>\n",
       "      <td>-0.147501</td>\n",
       "    </tr>\n",
       "    <tr>\n",
       "      <th>100</th>\n",
       "      <td>0.175874</td>\n",
       "      <td>-0.046996</td>\n",
       "      <td>-0.108253</td>\n",
       "      <td>0.086444</td>\n",
       "      <td>-0.021517</td>\n",
       "      <td>-0.283867</td>\n",
       "      <td>-0.293748</td>\n",
       "      <td>-0.091089</td>\n",
       "      <td>0.131450</td>\n",
       "      <td>-0.352610</td>\n",
       "      <td>0.130447</td>\n",
       "      <td>0.715892</td>\n",
       "      <td>0.379453</td>\n",
       "      <td>-0.568856</td>\n",
       "      <td>0.044730</td>\n",
       "      <td>-0.289618</td>\n",
       "      <td>0.073587</td>\n",
       "      <td>-0.374804</td>\n",
       "      <td>0.693479</td>\n",
       "    </tr>\n",
       "    <tr>\n",
       "      <th>10th</th>\n",
       "      <td>-0.567834</td>\n",
       "      <td>-0.349525</td>\n",
       "      <td>-0.231237</td>\n",
       "      <td>-0.058473</td>\n",
       "      <td>-0.089720</td>\n",
       "      <td>-0.051205</td>\n",
       "      <td>0.058600</td>\n",
       "      <td>-0.209090</td>\n",
       "      <td>0.250354</td>\n",
       "      <td>0.254891</td>\n",
       "      <td>0.318673</td>\n",
       "      <td>1.029490</td>\n",
       "      <td>-0.054907</td>\n",
       "      <td>0.142473</td>\n",
       "      <td>0.107138</td>\n",
       "      <td>0.083565</td>\n",
       "      <td>-0.123253</td>\n",
       "      <td>-0.412767</td>\n",
       "      <td>-0.097173</td>\n",
       "    </tr>\n",
       "    <tr>\n",
       "      <th>...</th>\n",
       "      <td>...</td>\n",
       "      <td>...</td>\n",
       "      <td>...</td>\n",
       "      <td>...</td>\n",
       "      <td>...</td>\n",
       "      <td>...</td>\n",
       "      <td>...</td>\n",
       "      <td>...</td>\n",
       "      <td>...</td>\n",
       "      <td>...</td>\n",
       "      <td>...</td>\n",
       "      <td>...</td>\n",
       "      <td>...</td>\n",
       "      <td>...</td>\n",
       "      <td>...</td>\n",
       "      <td>...</td>\n",
       "      <td>...</td>\n",
       "      <td>...</td>\n",
       "      <td>...</td>\n",
       "    </tr>\n",
       "    <tr>\n",
       "      <th>yorkshire</th>\n",
       "      <td>-1.861423</td>\n",
       "      <td>-0.431546</td>\n",
       "      <td>3.290356</td>\n",
       "      <td>-0.405314</td>\n",
       "      <td>-0.170139</td>\n",
       "      <td>3.330029</td>\n",
       "      <td>-0.356180</td>\n",
       "      <td>-0.401695</td>\n",
       "      <td>-0.428060</td>\n",
       "      <td>-0.329053</td>\n",
       "      <td>-0.391586</td>\n",
       "      <td>-0.293259</td>\n",
       "      <td>-0.061430</td>\n",
       "      <td>-0.147890</td>\n",
       "      <td>-0.364892</td>\n",
       "      <td>-0.179698</td>\n",
       "      <td>-0.142319</td>\n",
       "      <td>-0.419474</td>\n",
       "      <td>-0.236427</td>\n",
       "    </tr>\n",
       "    <tr>\n",
       "      <th>young</th>\n",
       "      <td>0.581853</td>\n",
       "      <td>0.475815</td>\n",
       "      <td>0.256561</td>\n",
       "      <td>-0.079970</td>\n",
       "      <td>0.046781</td>\n",
       "      <td>0.262734</td>\n",
       "      <td>0.053634</td>\n",
       "      <td>-0.820664</td>\n",
       "      <td>-0.116474</td>\n",
       "      <td>0.119175</td>\n",
       "      <td>0.110671</td>\n",
       "      <td>0.529735</td>\n",
       "      <td>-0.312784</td>\n",
       "      <td>-0.250235</td>\n",
       "      <td>-0.326178</td>\n",
       "      <td>-0.362708</td>\n",
       "      <td>0.253684</td>\n",
       "      <td>-0.281497</td>\n",
       "      <td>-0.140133</td>\n",
       "    </tr>\n",
       "    <tr>\n",
       "      <th>younger</th>\n",
       "      <td>-1.086136</td>\n",
       "      <td>0.370331</td>\n",
       "      <td>0.642827</td>\n",
       "      <td>-0.450751</td>\n",
       "      <td>0.775442</td>\n",
       "      <td>-0.259635</td>\n",
       "      <td>-0.130428</td>\n",
       "      <td>-0.550581</td>\n",
       "      <td>0.515961</td>\n",
       "      <td>-0.029118</td>\n",
       "      <td>0.532218</td>\n",
       "      <td>0.283839</td>\n",
       "      <td>0.030270</td>\n",
       "      <td>-0.251420</td>\n",
       "      <td>-0.275707</td>\n",
       "      <td>-0.170172</td>\n",
       "      <td>0.183635</td>\n",
       "      <td>-0.320536</td>\n",
       "      <td>0.189961</td>\n",
       "    </tr>\n",
       "    <tr>\n",
       "      <th>youngest</th>\n",
       "      <td>0.869438</td>\n",
       "      <td>0.424300</td>\n",
       "      <td>-0.386255</td>\n",
       "      <td>-0.214907</td>\n",
       "      <td>-0.065204</td>\n",
       "      <td>-0.278806</td>\n",
       "      <td>0.067890</td>\n",
       "      <td>-0.143956</td>\n",
       "      <td>0.028181</td>\n",
       "      <td>0.083296</td>\n",
       "      <td>-0.237813</td>\n",
       "      <td>-0.118625</td>\n",
       "      <td>0.024020</td>\n",
       "      <td>-0.134896</td>\n",
       "      <td>0.620876</td>\n",
       "      <td>-0.291166</td>\n",
       "      <td>0.188681</td>\n",
       "      <td>-0.048028</td>\n",
       "      <td>-0.387025</td>\n",
       "    </tr>\n",
       "    <tr>\n",
       "      <th>youth</th>\n",
       "      <td>-0.954717</td>\n",
       "      <td>-0.297277</td>\n",
       "      <td>-0.339454</td>\n",
       "      <td>0.021297</td>\n",
       "      <td>0.064417</td>\n",
       "      <td>0.178303</td>\n",
       "      <td>-0.056971</td>\n",
       "      <td>0.371497</td>\n",
       "      <td>0.098708</td>\n",
       "      <td>-0.192886</td>\n",
       "      <td>0.142566</td>\n",
       "      <td>-0.199292</td>\n",
       "      <td>0.284041</td>\n",
       "      <td>0.269215</td>\n",
       "      <td>0.117785</td>\n",
       "      <td>0.176284</td>\n",
       "      <td>0.074236</td>\n",
       "      <td>0.072079</td>\n",
       "      <td>0.170168</td>\n",
       "    </tr>\n",
       "  </tbody>\n",
       "</table>\n",
       "<p>2760 rows × 19 columns</p>\n",
       "</div>"
      ],
      "text/plain": [
       "           american  australian   british  canadian     dutch   english  \\\n",
       "000        0.518316   -0.491988 -0.298560  0.508228  0.830816  0.484419   \n",
       "08         0.489840    0.142858 -0.293320 -0.020717  0.072313  0.080704   \n",
       "10         0.017630    0.011958 -0.436825  0.571092 -0.292843  0.165266   \n",
       "100        0.175874   -0.046996 -0.108253  0.086444 -0.021517 -0.283867   \n",
       "10th      -0.567834   -0.349525 -0.231237 -0.058473 -0.089720 -0.051205   \n",
       "...             ...         ...       ...       ...       ...       ...   \n",
       "yorkshire -1.861423   -0.431546  3.290356 -0.405314 -0.170139  3.330029   \n",
       "young      0.581853    0.475815  0.256561 -0.079970  0.046781  0.262734   \n",
       "younger   -1.086136    0.370331  0.642827 -0.450751  0.775442 -0.259635   \n",
       "youngest   0.869438    0.424300 -0.386255 -0.214907 -0.065204 -0.278806   \n",
       "youth     -0.954717   -0.297277 -0.339454  0.021297  0.064417  0.178303   \n",
       "\n",
       "             french    german    indian     irish   italian  japanese  \\\n",
       "000       -0.123375  0.024988 -0.488016 -0.294453 -0.058393  0.428148   \n",
       "08         0.013213 -0.152922 -0.128716 -0.102208  0.334436 -0.137518   \n",
       "10         0.367483  0.386878  0.220128  0.450942  0.093750  0.056323   \n",
       "100       -0.293748 -0.091089  0.131450 -0.352610  0.130447  0.715892   \n",
       "10th       0.058600 -0.209090  0.250354  0.254891  0.318673  1.029490   \n",
       "...             ...       ...       ...       ...       ...       ...   \n",
       "yorkshire -0.356180 -0.401695 -0.428060 -0.329053 -0.391586 -0.293259   \n",
       "young      0.053634 -0.820664 -0.116474  0.119175  0.110671  0.529735   \n",
       "younger   -0.130428 -0.550581  0.515961 -0.029118  0.532218  0.283839   \n",
       "youngest   0.067890 -0.143956  0.028181  0.083296 -0.237813 -0.118625   \n",
       "youth     -0.056971  0.371497  0.098708 -0.192886  0.142566 -0.199292   \n",
       "\n",
       "             polish   russian  scottish   spanish   swedish  united states  \\\n",
       "000       -0.034471  0.028962  0.428171 -0.313123  0.085977      -0.881620   \n",
       "08         0.258943 -0.082907 -0.119552 -0.242121 -0.061280      -0.133965   \n",
       "10        -0.219796  0.016525 -0.300938  0.346850 -0.540195      -0.766727   \n",
       "100        0.379453 -0.568856  0.044730 -0.289618  0.073587      -0.374804   \n",
       "10th      -0.054907  0.142473  0.107138  0.083565 -0.123253      -0.412767   \n",
       "...             ...       ...       ...       ...       ...            ...   \n",
       "yorkshire -0.061430 -0.147890 -0.364892 -0.179698 -0.142319      -0.419474   \n",
       "young     -0.312784 -0.250235 -0.326178 -0.362708  0.253684      -0.281497   \n",
       "younger    0.030270 -0.251420 -0.275707 -0.170172  0.183635      -0.320536   \n",
       "youngest   0.024020 -0.134896  0.620876 -0.291166  0.188681      -0.048028   \n",
       "youth      0.284041  0.269215  0.117785  0.176284  0.074236       0.072079   \n",
       "\n",
       "                usa  \n",
       "000       -0.354027  \n",
       "08         0.082918  \n",
       "10        -0.147501  \n",
       "100        0.693479  \n",
       "10th      -0.097173  \n",
       "...             ...  \n",
       "yorkshire -0.236427  \n",
       "young     -0.140133  \n",
       "younger    0.189961  \n",
       "youngest  -0.387025  \n",
       "youth      0.170168  \n",
       "\n",
       "[2760 rows x 19 columns]"
      ]
     },
     "metadata": {},
     "output_type": "display_data"
    },
    {
     "name": "stdout",
     "output_type": "stream",
     "text": [
      "most predictive words for american:\n",
      "american         10.393522\n",
      "york              5.606982\n",
      "california        5.545287\n",
      "basketball        5.373361\n",
      "massachusetts     4.296378\n",
      "washington        4.116202\n",
      "boston            3.992898\n",
      "carolina          3.982720\n",
      "virginia          3.905291\n",
      "pennsylvania      3.821705\n",
      "Name: american, dtype: float64\n",
      "\n",
      "most predictive words for canadian:\n",
      "canadian      14.664756\n",
      "canada        11.756757\n",
      "toronto        8.559274\n",
      "ontario        8.488917\n",
      "montreal       7.300527\n",
      "columbia       5.348872\n",
      "premier        2.602112\n",
      "edward         2.432212\n",
      "prince         2.136717\n",
      "lieutenant     2.053237\n",
      "Name: canadian, dtype: float64\n"
     ]
    }
   ],
   "source": [
    "coefs = clf.coef_\n",
    "features = vectorizer.get_feature_names_out()\n",
    "classes = clf.classes_\n",
    "\n",
    "coef_df = pd.DataFrame(data=coefs.T, index=features, columns=classes)\n",
    "display(coef_df)\n",
    "\n",
    "print('most predictive words for american:')\n",
    "print(coef_df['american'].sort_values(ascending=False).head(10))\n",
    "print()\n",
    "print('most predictive words for canadian:')\n",
    "print(coef_df['canadian'].sort_values(ascending=False).head(10))"
   ]
  },
  {
   "cell_type": "markdown",
   "id": "f61be9e6",
   "metadata": {},
   "source": [
    "#### Task 4.1.1: Find Most Informative Features\n",
    "\n",
    "Set `top_french_feats` to be a list containing the five words that are most informative of the \"french\" nationality label:"
   ]
  },
  {
   "cell_type": "code",
   "execution_count": 37,
   "id": "7ac3b163",
   "metadata": {},
   "outputs": [
    {
     "name": "stdout",
     "output_type": "stream",
     "text": [
      "['french', 'paris', 'france', 'jean', 'des']\n"
     ]
    }
   ],
   "source": [
    "top_french_feats = coef_df['french'].sort_values(ascending=False).head(5).index.tolist()\n",
    "print(top_french_feats)"
   ]
  },
  {
   "cell_type": "markdown",
   "id": "c2829efa",
   "metadata": {},
   "source": [
    "We can also look at what exactly the model predicts and examine its accuracy, common confusions, and some example errors."
   ]
  },
  {
   "cell_type": "markdown",
   "id": "179559c6",
   "metadata": {},
   "source": [
    "#### Task 4.2: Examine Model Performance per Label\n",
    "\n",
    "Create dictionaries for class sizes and accuracies:"
   ]
  },
  {
   "cell_type": "code",
   "execution_count": 38,
   "id": "24048df7",
   "metadata": {},
   "outputs": [
    {
     "data": {
      "text/html": [
       "<div>\n",
       "<style scoped>\n",
       "    .dataframe tbody tr th:only-of-type {\n",
       "        vertical-align: middle;\n",
       "    }\n",
       "\n",
       "    .dataframe tbody tr th {\n",
       "        vertical-align: top;\n",
       "    }\n",
       "\n",
       "    .dataframe thead th {\n",
       "        text-align: right;\n",
       "    }\n",
       "</style>\n",
       "<table border=\"1\" class=\"dataframe\">\n",
       "  <thead>\n",
       "    <tr style=\"text-align: right;\">\n",
       "      <th></th>\n",
       "      <th>class_accuracy</th>\n",
       "      <th>class_size</th>\n",
       "    </tr>\n",
       "  </thead>\n",
       "  <tbody>\n",
       "    <tr>\n",
       "      <th>american</th>\n",
       "      <td>0.974093</td>\n",
       "      <td>1930</td>\n",
       "    </tr>\n",
       "    <tr>\n",
       "      <th>polish</th>\n",
       "      <td>0.906542</td>\n",
       "      <td>107</td>\n",
       "    </tr>\n",
       "    <tr>\n",
       "      <th>australian</th>\n",
       "      <td>0.896714</td>\n",
       "      <td>213</td>\n",
       "    </tr>\n",
       "    <tr>\n",
       "      <th>indian</th>\n",
       "      <td>0.880682</td>\n",
       "      <td>176</td>\n",
       "    </tr>\n",
       "    <tr>\n",
       "      <th>british</th>\n",
       "      <td>0.854756</td>\n",
       "      <td>778</td>\n",
       "    </tr>\n",
       "    <tr>\n",
       "      <th>french</th>\n",
       "      <td>0.847222</td>\n",
       "      <td>216</td>\n",
       "    </tr>\n",
       "    <tr>\n",
       "      <th>german</th>\n",
       "      <td>0.834197</td>\n",
       "      <td>193</td>\n",
       "    </tr>\n",
       "    <tr>\n",
       "      <th>canadian</th>\n",
       "      <td>0.789286</td>\n",
       "      <td>280</td>\n",
       "    </tr>\n",
       "    <tr>\n",
       "      <th>japanese</th>\n",
       "      <td>0.789062</td>\n",
       "      <td>128</td>\n",
       "    </tr>\n",
       "    <tr>\n",
       "      <th>dutch</th>\n",
       "      <td>0.781609</td>\n",
       "      <td>87</td>\n",
       "    </tr>\n",
       "    <tr>\n",
       "      <th>italian</th>\n",
       "      <td>0.779310</td>\n",
       "      <td>145</td>\n",
       "    </tr>\n",
       "    <tr>\n",
       "      <th>russian</th>\n",
       "      <td>0.731707</td>\n",
       "      <td>82</td>\n",
       "    </tr>\n",
       "    <tr>\n",
       "      <th>spanish</th>\n",
       "      <td>0.728395</td>\n",
       "      <td>81</td>\n",
       "    </tr>\n",
       "    <tr>\n",
       "      <th>swedish</th>\n",
       "      <td>0.725490</td>\n",
       "      <td>51</td>\n",
       "    </tr>\n",
       "    <tr>\n",
       "      <th>irish</th>\n",
       "      <td>0.701493</td>\n",
       "      <td>134</td>\n",
       "    </tr>\n",
       "    <tr>\n",
       "      <th>usa</th>\n",
       "      <td>0.504587</td>\n",
       "      <td>109</td>\n",
       "    </tr>\n",
       "    <tr>\n",
       "      <th>scottish</th>\n",
       "      <td>0.500000</td>\n",
       "      <td>82</td>\n",
       "    </tr>\n",
       "    <tr>\n",
       "      <th>english</th>\n",
       "      <td>0.279817</td>\n",
       "      <td>218</td>\n",
       "    </tr>\n",
       "    <tr>\n",
       "      <th>united states</th>\n",
       "      <td>0.027322</td>\n",
       "      <td>183</td>\n",
       "    </tr>\n",
       "  </tbody>\n",
       "</table>\n",
       "</div>"
      ],
      "text/plain": [
       "               class_accuracy  class_size\n",
       "american             0.974093        1930\n",
       "polish               0.906542         107\n",
       "australian           0.896714         213\n",
       "indian               0.880682         176\n",
       "british              0.854756         778\n",
       "french               0.847222         216\n",
       "german               0.834197         193\n",
       "canadian             0.789286         280\n",
       "japanese             0.789062         128\n",
       "dutch                0.781609          87\n",
       "italian              0.779310         145\n",
       "russian              0.731707          82\n",
       "spanish              0.728395          81\n",
       "swedish              0.725490          51\n",
       "irish                0.701493         134\n",
       "usa                  0.504587         109\n",
       "scottish             0.500000          82\n",
       "english              0.279817         218\n",
       "united states        0.027322         183"
      ]
     },
     "metadata": {},
     "output_type": "display_data"
    }
   ],
   "source": [
    "pred_df = pd.DataFrame({'pred': lr_dev_preds, 'label': y_dev})\n",
    "pred_df['correct'] = pred_df.label == pred_df.pred\n",
    "\n",
    "class_size = pred_df['label'].value_counts()\n",
    "class_accuracy = pred_df[pred_df['correct']].groupby('label').size() / class_size\n",
    "\n",
    "class_size = class_size.to_dict()\n",
    "class_accuracy = class_accuracy.fillna(0).to_dict()\n",
    "\n",
    "pred_stats = pd.DataFrame({'class_accuracy': class_accuracy, 'class_size': class_size})\n",
    "display(pred_stats.sort_values('class_accuracy', ascending=False))"
   ]
  },
  {
   "cell_type": "code",
   "execution_count": 39,
   "id": "280b0740",
   "metadata": {},
   "outputs": [
    {
     "data": {
      "text/plain": [
       "Text(0.5, 23.52222222222222, 'prediction')"
      ]
     },
     "execution_count": 39,
     "metadata": {},
     "output_type": "execute_result"
    },
    {
     "data": {
      "image/png": "[encoded data removed]",
      "text/plain": [
       "<Figure size 640x480 with 2 Axes>"
      ]
     },
     "metadata": {},
     "output_type": "display_data"
    }
   ],
   "source": [
    "# Examine the confusion matrix\n",
    "\n",
    "conf_df = pd.DataFrame(data=confusion_matrix(y_dev, lr_dev_preds, labels=classes, normalize='true'),\n",
    "                      index=classes, columns=classes)\n",
    "\n",
    "ax = sns.heatmap(conf_df, square=True, cmap=sns.cm.rocket_r, vmin=0, vmax=1)\n",
    "ax.set_ylabel('label')\n",
    "ax.set_xlabel('prediction')"
   ]
  },
  {
   "cell_type": "markdown",
   "id": "f41f6901",
   "metadata": {},
   "source": [
    "#### Task 4.2.1: Examining the Confusion Matrix\n",
    "\n",
    "Set `top_preds_for_canadian` to the five most frequent predictions for \"canadian\":"
   ]
  },
  {
   "cell_type": "code",
   "execution_count": 40,
   "id": "18ad7980",
   "metadata": {},
   "outputs": [
    {
     "name": "stdout",
     "output_type": "stream",
     "text": [
      "['canadian', 'american', 'british', 'french', 'australian']\n"
     ]
    }
   ],
   "source": [
    "canadian_preds = pred_df[pred_df['label'] == 'canadian']['pred']\n",
    "prediction_counts = Counter(canadian_preds)\n",
    "top_preds_for_canadian = [pred for pred, count in prediction_counts.most_common(5)]\n",
    "print(top_preds_for_canadian)"
   ]
  },
  {
   "cell_type": "markdown",
   "id": "bdb00bfd",
   "metadata": {},
   "source": [
    "#### Task 4.2.2: Diagnosing Some Confusions\n",
    "\n",
    "Identify the most accurate class and confused classes:"
   ]
  },
  {
   "cell_type": "code",
   "execution_count": 41,
   "id": "2e3a9311",
   "metadata": {},
   "outputs": [
    {
     "name": "stdout",
     "output_type": "stream",
     "text": [
      "american\n",
      "redundant labels: ['united states', 'usa']\n"
     ]
    }
   ],
   "source": [
    "most_accurate_class = 'american'\n",
    "confused_classes = ['united states', 'usa']\n",
    "print(most_accurate_class)\n",
    "print('redundant labels:', confused_classes)"
   ]
  },
  {
   "cell_type": "markdown",
   "id": "15930baf",
   "metadata": {},
   "source": [
    "#### Task 4.3: Inspect Data Points with Incorrect Predictions\n",
    "\n",
    "Analyze incorrect predictions where the model is confident or unconfident:"
   ]
  },
  {
   "cell_type": "code",
   "execution_count": 42,
   "id": "e4701550",
   "metadata": {},
   "outputs": [
    {
     "name": "stdout",
     "output_type": "stream",
     "text": [
      "most confident incorrect predictions\n"
     ]
    },
    {
     "data": {
      "text/html": [
       "<div>\n",
       "<style scoped>\n",
       "    .dataframe tbody tr th:only-of-type {\n",
       "        vertical-align: middle;\n",
       "    }\n",
       "\n",
       "    .dataframe tbody tr th {\n",
       "        vertical-align: top;\n",
       "    }\n",
       "\n",
       "    .dataframe thead th {\n",
       "        text-align: right;\n",
       "    }\n",
       "</style>\n",
       "<table border=\"1\" class=\"dataframe\">\n",
       "  <thead>\n",
       "    <tr style=\"text-align: right;\">\n",
       "      <th></th>\n",
       "      <th>pred</th>\n",
       "      <th>label</th>\n",
       "      <th>correct</th>\n",
       "      <th>prob</th>\n",
       "      <th>bio</th>\n",
       "    </tr>\n",
       "  </thead>\n",
       "  <tbody>\n",
       "    <tr>\n",
       "      <th>5100</th>\n",
       "      <td>italian</td>\n",
       "      <td>french</td>\n",
       "      <td>False</td>\n",
       "      <td>0.999862</td>\n",
       "      <td>Early life\\nMilza was a second-generation Ital...</td>\n",
       "    </tr>\n",
       "    <tr>\n",
       "      <th>654</th>\n",
       "      <td>swedish</td>\n",
       "      <td>dutch</td>\n",
       "      <td>False</td>\n",
       "      <td>0.999020</td>\n",
       "      <td>Biography\\nDe Geer was born in  Liège, Belgium...</td>\n",
       "    </tr>\n",
       "    <tr>\n",
       "      <th>4179</th>\n",
       "      <td>irish</td>\n",
       "      <td>canadian</td>\n",
       "      <td>False</td>\n",
       "      <td>0.998145</td>\n",
       "      <td>Career\\nNí Chofaigh is a journalist, presenter...</td>\n",
       "    </tr>\n",
       "    <tr>\n",
       "      <th>4049</th>\n",
       "      <td>canadian</td>\n",
       "      <td>british</td>\n",
       "      <td>False</td>\n",
       "      <td>0.993532</td>\n",
       "      <td>John Roger Spottiswoode (born 5 January 1945) ...</td>\n",
       "    </tr>\n",
       "    <tr>\n",
       "      <th>3692</th>\n",
       "      <td>canadian</td>\n",
       "      <td>american</td>\n",
       "      <td>False</td>\n",
       "      <td>0.992715</td>\n",
       "      <td>Early life\\nBeard was born in Scarborough, Ont...</td>\n",
       "    </tr>\n",
       "    <tr>\n",
       "      <th>4266</th>\n",
       "      <td>canadian</td>\n",
       "      <td>irish</td>\n",
       "      <td>False</td>\n",
       "      <td>0.989996</td>\n",
       "      <td>Early years\\nBorn in Mooncoin, Co. Kilkenny, I...</td>\n",
       "    </tr>\n",
       "    <tr>\n",
       "      <th>3369</th>\n",
       "      <td>american</td>\n",
       "      <td>french</td>\n",
       "      <td>False</td>\n",
       "      <td>0.987551</td>\n",
       "      <td>Early life and college years\\nOlivier Saint-Je...</td>\n",
       "    </tr>\n",
       "    <tr>\n",
       "      <th>1161</th>\n",
       "      <td>american</td>\n",
       "      <td>united states</td>\n",
       "      <td>False</td>\n",
       "      <td>0.985592</td>\n",
       "      <td>Biography\\nHughes joined the Army after high s...</td>\n",
       "    </tr>\n",
       "    <tr>\n",
       "      <th>127</th>\n",
       "      <td>canadian</td>\n",
       "      <td>italian</td>\n",
       "      <td>False</td>\n",
       "      <td>0.984926</td>\n",
       "      <td>Early life\\nCaruana was born into the mob in C...</td>\n",
       "    </tr>\n",
       "    <tr>\n",
       "      <th>2197</th>\n",
       "      <td>polish</td>\n",
       "      <td>american</td>\n",
       "      <td>False</td>\n",
       "      <td>0.983407</td>\n",
       "      <td>Life and career\\nSchally was born in Wilno, Se...</td>\n",
       "    </tr>\n",
       "  </tbody>\n",
       "</table>\n",
       "</div>"
      ],
      "text/plain": [
       "          pred          label  correct      prob  \\\n",
       "5100   italian         french    False  0.999862   \n",
       "654    swedish          dutch    False  0.999020   \n",
       "4179     irish       canadian    False  0.998145   \n",
       "4049  canadian        british    False  0.993532   \n",
       "3692  canadian       american    False  0.992715   \n",
       "4266  canadian          irish    False  0.989996   \n",
       "3369  american         french    False  0.987551   \n",
       "1161  american  united states    False  0.985592   \n",
       "127   canadian        italian    False  0.984926   \n",
       "2197    polish       american    False  0.983407   \n",
       "\n",
       "                                                    bio  \n",
       "5100  Early life\\nMilza was a second-generation Ital...  \n",
       "654   Biography\\nDe Geer was born in  Liège, Belgium...  \n",
       "4179  Career\\nNí Chofaigh is a journalist, presenter...  \n",
       "4049  John Roger Spottiswoode (born 5 January 1945) ...  \n",
       "3692  Early life\\nBeard was born in Scarborough, Ont...  \n",
       "4266  Early years\\nBorn in Mooncoin, Co. Kilkenny, I...  \n",
       "3369  Early life and college years\\nOlivier Saint-Je...  \n",
       "1161  Biography\\nHughes joined the Army after high s...  \n",
       "127   Early life\\nCaruana was born into the mob in C...  \n",
       "2197  Life and career\\nSchally was born in Wilno, Se...  "
      ]
     },
     "metadata": {},
     "output_type": "display_data"
    },
    {
     "name": "stdout",
     "output_type": "stream",
     "text": [
      "\n",
      "least confident incorrect predictions\n"
     ]
    },
    {
     "data": {
      "text/html": [
       "<div>\n",
       "<style scoped>\n",
       "    .dataframe tbody tr th:only-of-type {\n",
       "        vertical-align: middle;\n",
       "    }\n",
       "\n",
       "    .dataframe tbody tr th {\n",
       "        vertical-align: top;\n",
       "    }\n",
       "\n",
       "    .dataframe thead th {\n",
       "        text-align: right;\n",
       "    }\n",
       "</style>\n",
       "<table border=\"1\" class=\"dataframe\">\n",
       "  <thead>\n",
       "    <tr style=\"text-align: right;\">\n",
       "      <th></th>\n",
       "      <th>pred</th>\n",
       "      <th>label</th>\n",
       "      <th>correct</th>\n",
       "      <th>prob</th>\n",
       "      <th>bio</th>\n",
       "    </tr>\n",
       "  </thead>\n",
       "  <tbody>\n",
       "    <tr>\n",
       "      <th>4480</th>\n",
       "      <td>german</td>\n",
       "      <td>italian</td>\n",
       "      <td>False</td>\n",
       "      <td>0.114869</td>\n",
       "      <td>Life\\nBorn in Milano, Merz started drawing dur...</td>\n",
       "    </tr>\n",
       "    <tr>\n",
       "      <th>754</th>\n",
       "      <td>united states</td>\n",
       "      <td>french</td>\n",
       "      <td>False</td>\n",
       "      <td>0.143373</td>\n",
       "      <td>Last years and death\\nIn the meantime, he had ...</td>\n",
       "    </tr>\n",
       "    <tr>\n",
       "      <th>3045</th>\n",
       "      <td>british</td>\n",
       "      <td>japanese</td>\n",
       "      <td>False</td>\n",
       "      <td>0.147103</td>\n",
       "      <td>Biography\\nŌta Sukemoto was the third son of H...</td>\n",
       "    </tr>\n",
       "    <tr>\n",
       "      <th>1806</th>\n",
       "      <td>american</td>\n",
       "      <td>polish</td>\n",
       "      <td>False</td>\n",
       "      <td>0.147209</td>\n",
       "      <td>Personal bests\\nOutdoor\\n* 100 metres – 10.76 ...</td>\n",
       "    </tr>\n",
       "    <tr>\n",
       "      <th>3057</th>\n",
       "      <td>american</td>\n",
       "      <td>german</td>\n",
       "      <td>False</td>\n",
       "      <td>0.151718</td>\n",
       "      <td>Stefan Lucks is a researcher in the fields of ...</td>\n",
       "    </tr>\n",
       "    <tr>\n",
       "      <th>2482</th>\n",
       "      <td>spanish</td>\n",
       "      <td>british</td>\n",
       "      <td>False</td>\n",
       "      <td>0.153724</td>\n",
       "      <td>Career\\n===Early career===\\nDavies started rac...</td>\n",
       "    </tr>\n",
       "    <tr>\n",
       "      <th>3704</th>\n",
       "      <td>british</td>\n",
       "      <td>french</td>\n",
       "      <td>False</td>\n",
       "      <td>0.161031</td>\n",
       "      <td>Biography\\nGiscard d'Estaing studied at the  P...</td>\n",
       "    </tr>\n",
       "    <tr>\n",
       "      <th>1542</th>\n",
       "      <td>american</td>\n",
       "      <td>dutch</td>\n",
       "      <td>False</td>\n",
       "      <td>0.168583</td>\n",
       "      <td>Early life and career\\nBorn Georg Henri Anton ...</td>\n",
       "    </tr>\n",
       "    <tr>\n",
       "      <th>1832</th>\n",
       "      <td>british</td>\n",
       "      <td>english</td>\n",
       "      <td>False</td>\n",
       "      <td>0.176894</td>\n",
       "      <td>Life and career\\nNina was born in Brasília, Di...</td>\n",
       "    </tr>\n",
       "    <tr>\n",
       "      <th>755</th>\n",
       "      <td>french</td>\n",
       "      <td>spanish</td>\n",
       "      <td>False</td>\n",
       "      <td>0.177196</td>\n",
       "      <td>Career\\nLeón travelled to Madrid to start a ca...</td>\n",
       "    </tr>\n",
       "  </tbody>\n",
       "</table>\n",
       "</div>"
      ],
      "text/plain": [
       "               pred     label  correct      prob  \\\n",
       "4480         german   italian    False  0.114869   \n",
       "754   united states    french    False  0.143373   \n",
       "3045        british  japanese    False  0.147103   \n",
       "1806       american    polish    False  0.147209   \n",
       "3057       american    german    False  0.151718   \n",
       "2482        spanish   british    False  0.153724   \n",
       "3704        british    french    False  0.161031   \n",
       "1542       american     dutch    False  0.168583   \n",
       "1832        british   english    False  0.176894   \n",
       "755          french   spanish    False  0.177196   \n",
       "\n",
       "                                                    bio  \n",
       "4480  Life\\nBorn in Milano, Merz started drawing dur...  \n",
       "754   Last years and death\\nIn the meantime, he had ...  \n",
       "3045  Biography\\nŌta Sukemoto was the third son of H...  \n",
       "1806  Personal bests\\nOutdoor\\n* 100 metres – 10.76 ...  \n",
       "3057  Stefan Lucks is a researcher in the fields of ...  \n",
       "2482  Career\\n===Early career===\\nDavies started rac...  \n",
       "3704  Biography\\nGiscard d'Estaing studied at the  P...  \n",
       "1542  Early life and career\\nBorn Georg Henri Anton ...  \n",
       "1832  Life and career\\nNina was born in Brasília, Di...  \n",
       "755   Career\\nLeón travelled to Madrid to start a ca...  "
      ]
     },
     "metadata": {},
     "output_type": "display_data"
    }
   ],
   "source": [
    "probs = clf.predict_proba(X_dev).max(axis=1)\n",
    "pred_df['prob'] = probs\n",
    "pred_df['bio'] = dev_df.bio.values\n",
    "\n",
    "incorrect_preds = pred_df[~pred_df['correct']]\n",
    "most_confident_incorrect = incorrect_preds.nlargest(10, 'prob')\n",
    "least_confident_incorrect = incorrect_preds.nsmallest(10, 'prob')\n",
    "\n",
    "print('most confident incorrect predictions')\n",
    "display(most_confident_incorrect)\n",
    "print()\n",
    "print('least confident incorrect predictions')\n",
    "display(least_confident_incorrect)"
   ]
  },
  {
   "cell_type": "code",
   "execution_count": 43,
   "id": "b56675a8",
   "metadata": {
    "scrolled": false
   },
   "outputs": [
    {
     "name": "stdout",
     "output_type": "stream",
     "text": [
      "actual: french; predicted: italian; probability estimate: 1.000\n",
      "bio:\n",
      "Early life\n",
      "Milza was a second-generation Italian immigrant, born in Paris, France to Italian parents. His father, Olivier Milza, was born near Parma in Italy. His status as an immigrant motivated his studies in Italian history and Italian-French immigration. Milza first visited Italy at 16, learned Italian and began to study history.\n",
      "\n",
      "\n",
      "actual: dutch; predicted: swedish; probability estimate: 0.999\n",
      "bio:\n",
      "Biography\n",
      "De Geer was born in  Liège, Belgium. He was the son of the iron industrialist and merchant Louis de Geer de Gaillarmont (1535-1602), and Jeanne de Neille (1557-1641). His father had previously (1563) been married to Maria de Jalhéa (died 1578). In 1592, one of De Geer's half-sisters, Marie de Geer (1574-1609) married  (1569-1636), a Dutch merchant and a director of the Dutch East India Company who lived in Dordrecht. Presumably due to ongoing turmoil in the Prince-Bishopric of Liège as\n",
      "\n",
      "actual: canadian; predicted: irish; probability estimate: 0.998\n",
      "bio:\n",
      "Career\n",
      "Ní Chofaigh is a journalist, presenter and broadcaster on Irish television. Former presenter of ''Sin É'', and former reporter for RTÉ News and Current Affairs, she covered stories as diverse as the Clinton visit; 2004 Summer Olympics in Athens, 2003 Special Olympics World Summer Games; tall ships and female genital mutilation.\n",
      "\n",
      "Ní Chofaigh has presented shows such as ''The Afternoon Show'', ''Echo Island'' and The RTÉ People in Need Telethon on RTÉ Television. Her first role as a TV pres\n",
      "\n",
      "actual: british; predicted: canadian; probability estimate: 0.994\n",
      "bio:\n",
      "John Roger Spottiswoode (born 5 January 1945) is a Canadian-British director, editor and writer of film and television. He was born in Ottawa, Ontario, Canada, and was raised in Britain. His father Raymond Spottiswoode was a British film theoretician who worked at the National Film Board of Canada during the 1940s, directing such short films such as ''Wings of a Continent''.\n",
      "\n",
      "actual: american; predicted: canadian; probability estimate: 0.993\n",
      "bio:\n",
      "Early life\n",
      "Beard was born in Scarborough, Ontario, Canada. Her Suga BayBee was also a character on the ''Mad Dog and Billie'' morning show formerly aired on Toronto radio station KISS 92.5. Beard's squeaky-voiced character began appearing on KISS when Beard was 19 years old and otherwise working as a sales clerk.\n",
      "Career\n",
      "Her voice in 2000 was most known as the voice Sailor Mini Moon in the Cloverway adaptation of ''Sailor Moon''.\n",
      "From 2001 to 2007, Beard hosted and produced ''The Zone'', a series\n",
      "\n",
      "actual: irish; predicted: canadian; probability estimate: 0.990\n",
      "bio:\n",
      "Early years\n",
      "Born in Mooncoin, Co. Kilkenny, Ireland, Walsh and came to Canada in 1852 to complete his studies at the Saint-Sulpice Seminary in Montreal, Lower Canada. He was ordained a priest of Toronto, Upper Canada in 1854 by then Bishop of Toronto Armand-François-Marie de Charbonnel, at St. Michael's Cathedral. On his way to Toronto, in the summer of 1854, Walsh came down cholera, which permanently undermined his health.\n",
      "\n",
      "Father Walsh served as pastor at Brock. In April 1857 he was made paris\n",
      "\n",
      "actual: french; predicted: american; probability estimate: 0.988\n",
      "bio:\n",
      "Early life and college years\n",
      "Olivier Saint-Jean was born in Maisons-Alfort near Paris from parents who were natives of French Guiana. His mother George Goudet was a professional basketball player.  After graduating from Lycee Aristide Briand in 1993, Abdul-Wahad first played college basketball for two years at Michigan and transferred to San Jose State in 1995. Abdul-Wahad was part of the San Jose State team that won the 1996 Big West Conference Men's Basketball Tournament and made the NCAA tour\n",
      "\n",
      "actual: united states; predicted: american; probability estimate: 0.986\n",
      "bio:\n",
      "Biography\n",
      "Hughes joined the Army after high school. At 6'6\" he was recruited for a special unit that just played basketball; it was the first integrated team Hughes ever played on. When he left the Army, Texas Southern University offered him a basketball scholarship. Playing for coach Edward H. Adams, Hughes was an All-American at Southern. In 1955 Hughes met his wife, Jacquelyne Johnson, while playing in a tournament in Memphis, then was drafted by the Boston Celtics, but he did not make the te\n",
      "\n",
      "actual: italian; predicted: canadian; probability estimate: 0.985\n",
      "bio:\n",
      "Early life\n",
      "Caruana was born into the mob in Castelvetrano in the province of Trapani, Sicily. His family originated from Siculiana in the province of Agrigento, and is closely related to the Cuntrera-family through several marriages. Alfonso Caruana married his niece Giuseppina Caruana and has a son and two daughters.\n",
      "Mafia career\n",
      "In 1968, Alfonso Caruana arrived in Montreal, Quebec, Canada, with $100 in his pocket pretending to be an electrician. Ten years later he was stopped at the internatio\n",
      "\n",
      "actual: american; predicted: polish; probability estimate: 0.983\n",
      "bio:\n",
      "Life and career\n",
      "Schally was born in Wilno, Second Polish Republic (since 1945 Vilnius, Lithuania), as the son of Gen. Brigadier Kazimierz Schally, who was Chief of the Cabinet of President Ignacy Mościcki of Poland, and Maria (Łącka).\n",
      "\n",
      "In September 1939, when Poland was attacked by Nazi Germany and the Soviet Union, Schally escaped with the Poland's President Ignacy Mościcki, Prime Minister and the whole cabinet to the neutral Romania, where they were interned.\n",
      "I was fortunate to survive the hol\n",
      "\n"
     ]
    }
   ],
   "source": [
    "# Inspect confident incorrect predictions\n",
    "\n",
    "for _, row in most_confident_incorrect.iterrows():\n",
    "    print(f'actual: {row.label}; predicted: {row.pred}; probability estimate: {row.prob:.3f}')\n",
    "    print('bio:')\n",
    "    print(row.bio[:500])\n",
    "    print()"
   ]
  }
 ],
 "metadata": {
  "kernelspec": {
   "display_name": "Python 3 (ipykernel)",
   "language": "python",
   "name": "python3"
  },
  "language_info": {
   "codemirror_mode": {
    "name": "ipython",
    "version": 3
   },
   "file_extension": ".py",
   "mimetype": "text/x-python",
   "name": "python",
   "nbconvert_exporter": "python",
   "pygments_lexer": "ipython3",
   "version": "3.9.13"
  }
 },
 "nbformat": 4,
 "nbformat_minor": 5
}
